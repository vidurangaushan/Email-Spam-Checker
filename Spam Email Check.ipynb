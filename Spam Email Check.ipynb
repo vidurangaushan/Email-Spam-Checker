{
  "cells": [
    {
      "cell_type": "code",
      "execution_count": 41,
      "metadata": {
        "id": "NWIQAw-DXIG2"
      },
      "outputs": [],
      "source": [
        "import numpy as np\n",
        "import pandas as pd\n",
        "from matplotlib import pyplot as plt\n",
        "import seaborn as sns\n",
        "from sklearn.model_selection import GridSearchCV\n",
        "from sklearn import svm\n",
        "from sklearn.metrics import accuracy_score, confusion_matrix, classification_report\n",
        "from sklearn.model_selection import train_test_split, cross_val_score\n",
        "from sklearn.feature_extraction.text import CountVectorizer\n",
        "from imblearn.over_sampling import SMOTE"
      ]
    },
    {
      "cell_type": "code",
      "execution_count": 42,
      "metadata": {
        "colab": {
          "base_uri": "https://localhost:8080/"
        },
        "id": "kI0m2OVTsvHl",
        "outputId": "b52ac07b-8fb9-4dd6-859a-8a00e79931b5"
      },
      "outputs": [
        {
          "name": "stdout",
          "output_type": "stream",
          "text": [
            "Drive already mounted at /content/drive; to attempt to forcibly remount, call drive.mount(\"/content/drive\", force_remount=True).\n"
          ]
        }
      ],
      "source": [
        "from google.colab import drive\n",
        "drive.mount('/content/drive')"
      ]
    },
    {
      "cell_type": "code",
      "execution_count": 43,
      "metadata": {
        "id": "7-zvc80MXw_a"
      },
      "outputs": [],
      "source": [
        "#data = pd.read_csv('spam.csv')\n",
        "data = pd.read_csv('drive//MyDrive//spam.csv')"
      ]
    },
    {
      "cell_type": "code",
      "execution_count": 44,
      "metadata": {
        "colab": {
          "base_uri": "https://localhost:8080/"
        },
        "id": "YPMG87BQa6kn",
        "outputId": "db510aa0-7944-4b17-e7e0-f28ca534e7ee"
      },
      "outputs": [
        {
          "data": {
            "text/plain": [
              "(5572, 2)"
            ]
          },
          "execution_count": 44,
          "metadata": {},
          "output_type": "execute_result"
        }
      ],
      "source": [
        "data.shape"
      ]
    },
    {
      "cell_type": "code",
      "execution_count": 45,
      "metadata": {
        "colab": {
          "base_uri": "https://localhost:8080/",
          "height": 206
        },
        "id": "3xAGHmXXX9k5",
        "outputId": "1145fbb1-cb29-4395-9369-a74306cbf3ea"
      },
      "outputs": [
        {
          "data": {
            "text/html": [
              "\n",
              "  <div id=\"df-8f1a52fa-b0d4-4793-9ec7-a3269a895112\">\n",
              "    <div class=\"colab-df-container\">\n",
              "      <div>\n",
              "<style scoped>\n",
              "    .dataframe tbody tr th:only-of-type {\n",
              "        vertical-align: middle;\n",
              "    }\n",
              "\n",
              "    .dataframe tbody tr th {\n",
              "        vertical-align: top;\n",
              "    }\n",
              "\n",
              "    .dataframe thead th {\n",
              "        text-align: right;\n",
              "    }\n",
              "</style>\n",
              "<table border=\"1\" class=\"dataframe\">\n",
              "  <thead>\n",
              "    <tr style=\"text-align: right;\">\n",
              "      <th></th>\n",
              "      <th>Label</th>\n",
              "      <th>EmailText</th>\n",
              "    </tr>\n",
              "  </thead>\n",
              "  <tbody>\n",
              "    <tr>\n",
              "      <th>0</th>\n",
              "      <td>ham</td>\n",
              "      <td>Go until jurong point, crazy.. Available only ...</td>\n",
              "    </tr>\n",
              "    <tr>\n",
              "      <th>1</th>\n",
              "      <td>ham</td>\n",
              "      <td>Ok lar... Joking wif u oni...</td>\n",
              "    </tr>\n",
              "    <tr>\n",
              "      <th>2</th>\n",
              "      <td>spam</td>\n",
              "      <td>Free entry in 2 a wkly comp to win FA Cup fina...</td>\n",
              "    </tr>\n",
              "    <tr>\n",
              "      <th>3</th>\n",
              "      <td>ham</td>\n",
              "      <td>U dun say so early hor... U c already then say...</td>\n",
              "    </tr>\n",
              "    <tr>\n",
              "      <th>4</th>\n",
              "      <td>ham</td>\n",
              "      <td>Nah I don't think he goes to usf, he lives aro...</td>\n",
              "    </tr>\n",
              "  </tbody>\n",
              "</table>\n",
              "</div>\n",
              "      <button class=\"colab-df-convert\" onclick=\"convertToInteractive('df-8f1a52fa-b0d4-4793-9ec7-a3269a895112')\"\n",
              "              title=\"Convert this dataframe to an interactive table.\"\n",
              "              style=\"display:none;\">\n",
              "        \n",
              "  <svg xmlns=\"http://www.w3.org/2000/svg\" height=\"24px\"viewBox=\"0 0 24 24\"\n",
              "       width=\"24px\">\n",
              "    <path d=\"M0 0h24v24H0V0z\" fill=\"none\"/>\n",
              "    <path d=\"M18.56 5.44l.94 2.06.94-2.06 2.06-.94-2.06-.94-.94-2.06-.94 2.06-2.06.94zm-11 1L8.5 8.5l.94-2.06 2.06-.94-2.06-.94L8.5 2.5l-.94 2.06-2.06.94zm10 10l.94 2.06.94-2.06 2.06-.94-2.06-.94-.94-2.06-.94 2.06-2.06.94z\"/><path d=\"M17.41 7.96l-1.37-1.37c-.4-.4-.92-.59-1.43-.59-.52 0-1.04.2-1.43.59L10.3 9.45l-7.72 7.72c-.78.78-.78 2.05 0 2.83L4 21.41c.39.39.9.59 1.41.59.51 0 1.02-.2 1.41-.59l7.78-7.78 2.81-2.81c.8-.78.8-2.07 0-2.86zM5.41 20L4 18.59l7.72-7.72 1.47 1.35L5.41 20z\"/>\n",
              "  </svg>\n",
              "      </button>\n",
              "      \n",
              "  <style>\n",
              "    .colab-df-container {\n",
              "      display:flex;\n",
              "      flex-wrap:wrap;\n",
              "      gap: 12px;\n",
              "    }\n",
              "\n",
              "    .colab-df-convert {\n",
              "      background-color: #E8F0FE;\n",
              "      border: none;\n",
              "      border-radius: 50%;\n",
              "      cursor: pointer;\n",
              "      display: none;\n",
              "      fill: #1967D2;\n",
              "      height: 32px;\n",
              "      padding: 0 0 0 0;\n",
              "      width: 32px;\n",
              "    }\n",
              "\n",
              "    .colab-df-convert:hover {\n",
              "      background-color: #E2EBFA;\n",
              "      box-shadow: 0px 1px 2px rgba(60, 64, 67, 0.3), 0px 1px 3px 1px rgba(60, 64, 67, 0.15);\n",
              "      fill: #174EA6;\n",
              "    }\n",
              "\n",
              "    [theme=dark] .colab-df-convert {\n",
              "      background-color: #3B4455;\n",
              "      fill: #D2E3FC;\n",
              "    }\n",
              "\n",
              "    [theme=dark] .colab-df-convert:hover {\n",
              "      background-color: #434B5C;\n",
              "      box-shadow: 0px 1px 3px 1px rgba(0, 0, 0, 0.15);\n",
              "      filter: drop-shadow(0px 1px 2px rgba(0, 0, 0, 0.3));\n",
              "      fill: #FFFFFF;\n",
              "    }\n",
              "  </style>\n",
              "\n",
              "      <script>\n",
              "        const buttonEl =\n",
              "          document.querySelector('#df-8f1a52fa-b0d4-4793-9ec7-a3269a895112 button.colab-df-convert');\n",
              "        buttonEl.style.display =\n",
              "          google.colab.kernel.accessAllowed ? 'block' : 'none';\n",
              "\n",
              "        async function convertToInteractive(key) {\n",
              "          const element = document.querySelector('#df-8f1a52fa-b0d4-4793-9ec7-a3269a895112');\n",
              "          const dataTable =\n",
              "            await google.colab.kernel.invokeFunction('convertToInteractive',\n",
              "                                                     [key], {});\n",
              "          if (!dataTable) return;\n",
              "\n",
              "          const docLinkHtml = 'Like what you see? Visit the ' +\n",
              "            '<a target=\"_blank\" href=https://colab.research.google.com/notebooks/data_table.ipynb>data table notebook</a>'\n",
              "            + ' to learn more about interactive tables.';\n",
              "          element.innerHTML = '';\n",
              "          dataTable['output_type'] = 'display_data';\n",
              "          await google.colab.output.renderOutput(dataTable, element);\n",
              "          const docLink = document.createElement('div');\n",
              "          docLink.innerHTML = docLinkHtml;\n",
              "          element.appendChild(docLink);\n",
              "        }\n",
              "      </script>\n",
              "    </div>\n",
              "  </div>\n",
              "  "
            ],
            "text/plain": [
              "  Label                                          EmailText\n",
              "0   ham  Go until jurong point, crazy.. Available only ...\n",
              "1   ham                      Ok lar... Joking wif u oni...\n",
              "2  spam  Free entry in 2 a wkly comp to win FA Cup fina...\n",
              "3   ham  U dun say so early hor... U c already then say...\n",
              "4   ham  Nah I don't think he goes to usf, he lives aro..."
            ]
          },
          "execution_count": 45,
          "metadata": {},
          "output_type": "execute_result"
        }
      ],
      "source": [
        "data.head(5)"
      ]
    },
    {
      "cell_type": "code",
      "execution_count": 46,
      "metadata": {
        "colab": {
          "base_uri": "https://localhost:8080/"
        },
        "id": "QOUg3YVXagwd",
        "outputId": "07c8452e-5e39-4976-b460-950227344ae9"
      },
      "outputs": [
        {
          "name": "stdout",
          "output_type": "stream",
          "text": [
            "<class 'pandas.core.frame.DataFrame'>\n",
            "RangeIndex: 5572 entries, 0 to 5571\n",
            "Data columns (total 2 columns):\n",
            " #   Column     Non-Null Count  Dtype \n",
            "---  ------     --------------  ----- \n",
            " 0   Label      5572 non-null   object\n",
            " 1   EmailText  5572 non-null   object\n",
            "dtypes: object(2)\n",
            "memory usage: 87.2+ KB\n"
          ]
        }
      ],
      "source": [
        "data.info()"
      ]
    },
    {
      "cell_type": "code",
      "execution_count": 47,
      "metadata": {
        "colab": {
          "base_uri": "https://localhost:8080/"
        },
        "id": "vpRQUpVFOMDb",
        "outputId": "d5b18ec2-20fa-4434-9e93-451f2f6f91e3"
      },
      "outputs": [
        {
          "data": {
            "text/plain": [
              "Label                                  ham\n",
              "EmailText    Ok lar... Joking wif u oni...\n",
              "Name: 1, dtype: object"
            ]
          },
          "execution_count": 47,
          "metadata": {},
          "output_type": "execute_result"
        }
      ],
      "source": [
        "pd.set_option('display.max_rows', None)\n",
        "pd.set_option('display.max_columns', None)\n",
        "data.iloc[1].T"
      ]
    },
    {
      "cell_type": "code",
      "execution_count": 48,
      "metadata": {
        "colab": {
          "base_uri": "https://localhost:8080/",
          "height": 143
        },
        "id": "kcIAPan_PEUA",
        "outputId": "1dd41e57-f5cd-4903-ab84-64a0ef8b2dac"
      },
      "outputs": [
        {
          "data": {
            "text/html": [
              "\n",
              "  <div id=\"df-6c38e51d-1bae-4998-b481-8b1e191e2242\">\n",
              "    <div class=\"colab-df-container\">\n",
              "      <div>\n",
              "<style scoped>\n",
              "    .dataframe tbody tr th:only-of-type {\n",
              "        vertical-align: middle;\n",
              "    }\n",
              "\n",
              "    .dataframe tbody tr th {\n",
              "        vertical-align: top;\n",
              "    }\n",
              "\n",
              "    .dataframe thead th {\n",
              "        text-align: right;\n",
              "    }\n",
              "</style>\n",
              "<table border=\"1\" class=\"dataframe\">\n",
              "  <thead>\n",
              "    <tr style=\"text-align: right;\">\n",
              "      <th></th>\n",
              "      <th>Label</th>\n",
              "      <th>EmailText</th>\n",
              "    </tr>\n",
              "  </thead>\n",
              "  <tbody>\n",
              "    <tr>\n",
              "      <th>0</th>\n",
              "      <td>ham</td>\n",
              "      <td>Go until jurong point, crazy.. Available only ...</td>\n",
              "    </tr>\n",
              "    <tr>\n",
              "      <th>1</th>\n",
              "      <td>ham</td>\n",
              "      <td>Ok lar... Joking wif u oni...</td>\n",
              "    </tr>\n",
              "    <tr>\n",
              "      <th>2</th>\n",
              "      <td>spam</td>\n",
              "      <td>Free entry in 2 a wkly comp to win FA Cup fina...</td>\n",
              "    </tr>\n",
              "  </tbody>\n",
              "</table>\n",
              "</div>\n",
              "      <button class=\"colab-df-convert\" onclick=\"convertToInteractive('df-6c38e51d-1bae-4998-b481-8b1e191e2242')\"\n",
              "              title=\"Convert this dataframe to an interactive table.\"\n",
              "              style=\"display:none;\">\n",
              "        \n",
              "  <svg xmlns=\"http://www.w3.org/2000/svg\" height=\"24px\"viewBox=\"0 0 24 24\"\n",
              "       width=\"24px\">\n",
              "    <path d=\"M0 0h24v24H0V0z\" fill=\"none\"/>\n",
              "    <path d=\"M18.56 5.44l.94 2.06.94-2.06 2.06-.94-2.06-.94-.94-2.06-.94 2.06-2.06.94zm-11 1L8.5 8.5l.94-2.06 2.06-.94-2.06-.94L8.5 2.5l-.94 2.06-2.06.94zm10 10l.94 2.06.94-2.06 2.06-.94-2.06-.94-.94-2.06-.94 2.06-2.06.94z\"/><path d=\"M17.41 7.96l-1.37-1.37c-.4-.4-.92-.59-1.43-.59-.52 0-1.04.2-1.43.59L10.3 9.45l-7.72 7.72c-.78.78-.78 2.05 0 2.83L4 21.41c.39.39.9.59 1.41.59.51 0 1.02-.2 1.41-.59l7.78-7.78 2.81-2.81c.8-.78.8-2.07 0-2.86zM5.41 20L4 18.59l7.72-7.72 1.47 1.35L5.41 20z\"/>\n",
              "  </svg>\n",
              "      </button>\n",
              "      \n",
              "  <style>\n",
              "    .colab-df-container {\n",
              "      display:flex;\n",
              "      flex-wrap:wrap;\n",
              "      gap: 12px;\n",
              "    }\n",
              "\n",
              "    .colab-df-convert {\n",
              "      background-color: #E8F0FE;\n",
              "      border: none;\n",
              "      border-radius: 50%;\n",
              "      cursor: pointer;\n",
              "      display: none;\n",
              "      fill: #1967D2;\n",
              "      height: 32px;\n",
              "      padding: 0 0 0 0;\n",
              "      width: 32px;\n",
              "    }\n",
              "\n",
              "    .colab-df-convert:hover {\n",
              "      background-color: #E2EBFA;\n",
              "      box-shadow: 0px 1px 2px rgba(60, 64, 67, 0.3), 0px 1px 3px 1px rgba(60, 64, 67, 0.15);\n",
              "      fill: #174EA6;\n",
              "    }\n",
              "\n",
              "    [theme=dark] .colab-df-convert {\n",
              "      background-color: #3B4455;\n",
              "      fill: #D2E3FC;\n",
              "    }\n",
              "\n",
              "    [theme=dark] .colab-df-convert:hover {\n",
              "      background-color: #434B5C;\n",
              "      box-shadow: 0px 1px 3px 1px rgba(0, 0, 0, 0.15);\n",
              "      filter: drop-shadow(0px 1px 2px rgba(0, 0, 0, 0.3));\n",
              "      fill: #FFFFFF;\n",
              "    }\n",
              "  </style>\n",
              "\n",
              "      <script>\n",
              "        const buttonEl =\n",
              "          document.querySelector('#df-6c38e51d-1bae-4998-b481-8b1e191e2242 button.colab-df-convert');\n",
              "        buttonEl.style.display =\n",
              "          google.colab.kernel.accessAllowed ? 'block' : 'none';\n",
              "\n",
              "        async function convertToInteractive(key) {\n",
              "          const element = document.querySelector('#df-6c38e51d-1bae-4998-b481-8b1e191e2242');\n",
              "          const dataTable =\n",
              "            await google.colab.kernel.invokeFunction('convertToInteractive',\n",
              "                                                     [key], {});\n",
              "          if (!dataTable) return;\n",
              "\n",
              "          const docLinkHtml = 'Like what you see? Visit the ' +\n",
              "            '<a target=\"_blank\" href=https://colab.research.google.com/notebooks/data_table.ipynb>data table notebook</a>'\n",
              "            + ' to learn more about interactive tables.';\n",
              "          element.innerHTML = '';\n",
              "          dataTable['output_type'] = 'display_data';\n",
              "          await google.colab.output.renderOutput(dataTable, element);\n",
              "          const docLink = document.createElement('div');\n",
              "          docLink.innerHTML = docLinkHtml;\n",
              "          element.appendChild(docLink);\n",
              "        }\n",
              "      </script>\n",
              "    </div>\n",
              "  </div>\n",
              "  "
            ],
            "text/plain": [
              "  Label                                          EmailText\n",
              "0   ham  Go until jurong point, crazy.. Available only ...\n",
              "1   ham                      Ok lar... Joking wif u oni...\n",
              "2  spam  Free entry in 2 a wkly comp to win FA Cup fina..."
            ]
          },
          "execution_count": 48,
          "metadata": {},
          "output_type": "execute_result"
        }
      ],
      "source": [
        "data.head(3)"
      ]
    },
    {
      "cell_type": "code",
      "execution_count": 49,
      "metadata": {
        "colab": {
          "base_uri": "https://localhost:8080/",
          "height": 143
        },
        "id": "hzVGzNGuO6Fa",
        "outputId": "6318c32a-8b8a-45fa-e7aa-fadafc7c1d4f"
      },
      "outputs": [
        {
          "data": {
            "text/html": [
              "\n",
              "  <div id=\"df-bdb50afc-afde-49df-828c-dda2110d5f9a\">\n",
              "    <div class=\"colab-df-container\">\n",
              "      <div>\n",
              "<style scoped>\n",
              "    .dataframe tbody tr th:only-of-type {\n",
              "        vertical-align: middle;\n",
              "    }\n",
              "\n",
              "    .dataframe tbody tr th {\n",
              "        vertical-align: top;\n",
              "    }\n",
              "\n",
              "    .dataframe thead th {\n",
              "        text-align: right;\n",
              "    }\n",
              "</style>\n",
              "<table border=\"1\" class=\"dataframe\">\n",
              "  <thead>\n",
              "    <tr style=\"text-align: right;\">\n",
              "      <th></th>\n",
              "      <th>Label</th>\n",
              "      <th>EmailText</th>\n",
              "    </tr>\n",
              "  </thead>\n",
              "  <tbody>\n",
              "    <tr>\n",
              "      <th>5569</th>\n",
              "      <td>ham</td>\n",
              "      <td>Pity, * was in mood for that. So...any other s...</td>\n",
              "    </tr>\n",
              "    <tr>\n",
              "      <th>5570</th>\n",
              "      <td>ham</td>\n",
              "      <td>The guy did some bitching but I acted like i'd...</td>\n",
              "    </tr>\n",
              "    <tr>\n",
              "      <th>5571</th>\n",
              "      <td>ham</td>\n",
              "      <td>Rofl. Its true to its name</td>\n",
              "    </tr>\n",
              "  </tbody>\n",
              "</table>\n",
              "</div>\n",
              "      <button class=\"colab-df-convert\" onclick=\"convertToInteractive('df-bdb50afc-afde-49df-828c-dda2110d5f9a')\"\n",
              "              title=\"Convert this dataframe to an interactive table.\"\n",
              "              style=\"display:none;\">\n",
              "        \n",
              "  <svg xmlns=\"http://www.w3.org/2000/svg\" height=\"24px\"viewBox=\"0 0 24 24\"\n",
              "       width=\"24px\">\n",
              "    <path d=\"M0 0h24v24H0V0z\" fill=\"none\"/>\n",
              "    <path d=\"M18.56 5.44l.94 2.06.94-2.06 2.06-.94-2.06-.94-.94-2.06-.94 2.06-2.06.94zm-11 1L8.5 8.5l.94-2.06 2.06-.94-2.06-.94L8.5 2.5l-.94 2.06-2.06.94zm10 10l.94 2.06.94-2.06 2.06-.94-2.06-.94-.94-2.06-.94 2.06-2.06.94z\"/><path d=\"M17.41 7.96l-1.37-1.37c-.4-.4-.92-.59-1.43-.59-.52 0-1.04.2-1.43.59L10.3 9.45l-7.72 7.72c-.78.78-.78 2.05 0 2.83L4 21.41c.39.39.9.59 1.41.59.51 0 1.02-.2 1.41-.59l7.78-7.78 2.81-2.81c.8-.78.8-2.07 0-2.86zM5.41 20L4 18.59l7.72-7.72 1.47 1.35L5.41 20z\"/>\n",
              "  </svg>\n",
              "      </button>\n",
              "      \n",
              "  <style>\n",
              "    .colab-df-container {\n",
              "      display:flex;\n",
              "      flex-wrap:wrap;\n",
              "      gap: 12px;\n",
              "    }\n",
              "\n",
              "    .colab-df-convert {\n",
              "      background-color: #E8F0FE;\n",
              "      border: none;\n",
              "      border-radius: 50%;\n",
              "      cursor: pointer;\n",
              "      display: none;\n",
              "      fill: #1967D2;\n",
              "      height: 32px;\n",
              "      padding: 0 0 0 0;\n",
              "      width: 32px;\n",
              "    }\n",
              "\n",
              "    .colab-df-convert:hover {\n",
              "      background-color: #E2EBFA;\n",
              "      box-shadow: 0px 1px 2px rgba(60, 64, 67, 0.3), 0px 1px 3px 1px rgba(60, 64, 67, 0.15);\n",
              "      fill: #174EA6;\n",
              "    }\n",
              "\n",
              "    [theme=dark] .colab-df-convert {\n",
              "      background-color: #3B4455;\n",
              "      fill: #D2E3FC;\n",
              "    }\n",
              "\n",
              "    [theme=dark] .colab-df-convert:hover {\n",
              "      background-color: #434B5C;\n",
              "      box-shadow: 0px 1px 3px 1px rgba(0, 0, 0, 0.15);\n",
              "      filter: drop-shadow(0px 1px 2px rgba(0, 0, 0, 0.3));\n",
              "      fill: #FFFFFF;\n",
              "    }\n",
              "  </style>\n",
              "\n",
              "      <script>\n",
              "        const buttonEl =\n",
              "          document.querySelector('#df-bdb50afc-afde-49df-828c-dda2110d5f9a button.colab-df-convert');\n",
              "        buttonEl.style.display =\n",
              "          google.colab.kernel.accessAllowed ? 'block' : 'none';\n",
              "\n",
              "        async function convertToInteractive(key) {\n",
              "          const element = document.querySelector('#df-bdb50afc-afde-49df-828c-dda2110d5f9a');\n",
              "          const dataTable =\n",
              "            await google.colab.kernel.invokeFunction('convertToInteractive',\n",
              "                                                     [key], {});\n",
              "          if (!dataTable) return;\n",
              "\n",
              "          const docLinkHtml = 'Like what you see? Visit the ' +\n",
              "            '<a target=\"_blank\" href=https://colab.research.google.com/notebooks/data_table.ipynb>data table notebook</a>'\n",
              "            + ' to learn more about interactive tables.';\n",
              "          element.innerHTML = '';\n",
              "          dataTable['output_type'] = 'display_data';\n",
              "          await google.colab.output.renderOutput(dataTable, element);\n",
              "          const docLink = document.createElement('div');\n",
              "          docLink.innerHTML = docLinkHtml;\n",
              "          element.appendChild(docLink);\n",
              "        }\n",
              "      </script>\n",
              "    </div>\n",
              "  </div>\n",
              "  "
            ],
            "text/plain": [
              "     Label                                          EmailText\n",
              "5569   ham  Pity, * was in mood for that. So...any other s...\n",
              "5570   ham  The guy did some bitching but I acted like i'd...\n",
              "5571   ham                         Rofl. Its true to its name"
            ]
          },
          "execution_count": 49,
          "metadata": {},
          "output_type": "execute_result"
        }
      ],
      "source": [
        "data.tail(3)"
      ]
    },
    {
      "cell_type": "markdown",
      "metadata": {
        "id": "nZK-Qk3sJZvg"
      },
      "source": [
        "**Split the dataset into independent & dependent**"
      ]
    },
    {
      "cell_type": "code",
      "execution_count": 50,
      "metadata": {
        "id": "FVGWjUKCn-Dc"
      },
      "outputs": [],
      "source": [
        "def add_label(input):\n",
        "  if input == 'ham':\n",
        "    return 1\n",
        "  else:\n",
        "    return 0\n",
        "\n",
        "data['Label'] = data['Label'].apply(add_label)"
      ]
    },
    {
      "cell_type": "code",
      "execution_count": 51,
      "metadata": {
        "colab": {
          "base_uri": "https://localhost:8080/"
        },
        "id": "gdLyV5pqoCh8",
        "outputId": "68c80775-8527-4faa-c326-6b9c6a05667b"
      },
      "outputs": [
        {
          "data": {
            "text/plain": [
              "1    4825\n",
              "0     747\n",
              "Name: Label, dtype: int64"
            ]
          },
          "execution_count": 51,
          "metadata": {},
          "output_type": "execute_result"
        }
      ],
      "source": [
        "data['Label'].value_counts()"
      ]
    },
    {
      "cell_type": "code",
      "execution_count": 52,
      "metadata": {
        "id": "DVZgvpZ4HdPf"
      },
      "outputs": [],
      "source": [
        "x = data['EmailText']\n",
        "y = data['Label']"
      ]
    },
    {
      "cell_type": "code",
      "execution_count": 53,
      "metadata": {
        "id": "ZbJCmuZyWjJ5"
      },
      "outputs": [],
      "source": [
        "#y.value_counts().plot(kind=\"bar\")\n",
        "#y.value_counts()"
      ]
    },
    {
      "cell_type": "code",
      "execution_count": 54,
      "metadata": {
        "id": "RKJ49EF57RXm"
      },
      "outputs": [],
      "source": [
        "vectorizer= CountVectorizer()\n",
        "x = vectorizer.fit_transform(x)\n"
      ]
    },
    {
      "cell_type": "code",
      "execution_count": 55,
      "metadata": {
        "colab": {
          "base_uri": "https://localhost:8080/",
          "height": 297
        },
        "id": "8SzIus_4rC4F",
        "outputId": "237ba861-99d3-4caf-c9c9-64346b77385f"
      },
      "outputs": [
        {
          "data": {
            "text/plain": [
              "<matplotlib.axes._subplots.AxesSubplot at 0x7f406b158a90>"
            ]
          },
          "execution_count": 55,
          "metadata": {},
          "output_type": "execute_result"
        },
        {
          "data": {
            "image/png": "[encoded data removed]",
            "text/plain": [
              "<Figure size 432x288 with 1 Axes>"
            ]
          },
          "metadata": {
            "needs_background": "light"
          },
          "output_type": "display_data"
        }
      ],
      "source": [
        "sns.countplot(x=data[\"Label\"])"
      ]
    },
    {
      "cell_type": "code",
      "execution_count": 56,
      "metadata": {
        "colab": {
          "base_uri": "https://localhost:8080/",
          "height": 280
        },
        "id": "tvU9cSHI71oF",
        "outputId": "5c2bbb31-a0d6-45bc-e7d5-2c97d8b2ef7b"
      },
      "outputs": [
        {
          "data": {
            "text/plain": [
              "<matplotlib.axes._subplots.AxesSubplot at 0x7f4067f2a6d0>"
            ]
          },
          "execution_count": 56,
          "metadata": {},
          "output_type": "execute_result"
        },
        {
          "data": {
            "image/png": "[encoded data removed]",
            "text/plain": [
              "<Figure size 432x288 with 1 Axes>"
            ]
          },
          "metadata": {
            "needs_background": "light"
          },
          "output_type": "display_data"
        }
      ],
      "source": [
        "smote = SMOTE()\n",
        "x_smote, y_smote = smote.fit_resample(x, y)\n",
        "y_smote.value_counts().plot(kind='bar')"
      ]
    },
    {
      "cell_type": "code",
      "execution_count": 57,
      "metadata": {
        "id": "mEp7mNeDdA4s"
      },
      "outputs": [],
      "source": [
        "#sns.countplot(x=data[\"Label\"])"
      ]
    },
    {
      "cell_type": "markdown",
      "metadata": {
        "id": "sk0JM6_s-9lC"
      },
      "source": [
        "Split Data Set traning & testing\n"
      ]
    },
    {
      "cell_type": "code",
      "execution_count": 58,
      "metadata": {
        "id": "J5p4vHErHmHy"
      },
      "outputs": [],
      "source": [
        "x_train, x_test, y_train, y_test = train_test_split(x_smote, y_smote, random_state=0, train_size = 0.8)"
      ]
    },
    {
      "cell_type": "code",
      "execution_count": 59,
      "metadata": {
        "colab": {
          "base_uri": "https://localhost:8080/"
        },
        "id": "NarHuVaC9DDA",
        "outputId": "bd9bf79b-dafb-4122-fdd7-388d139069d1"
      },
      "outputs": [
        {
          "data": {
            "text/plain": [
              "(7720, 8679)"
            ]
          },
          "execution_count": 59,
          "metadata": {},
          "output_type": "execute_result"
        }
      ],
      "source": [
        "x_train.shape"
      ]
    },
    {
      "cell_type": "code",
      "execution_count": 60,
      "metadata": {
        "id": "HfALT7gbaqoX"
      },
      "outputs": [],
      "source": [
        "#x_train.head(3)"
      ]
    },
    {
      "cell_type": "markdown",
      "metadata": {
        "id": "WWt7LzS8VCV-"
      },
      "source": [
        "**CountVectorizer**"
      ]
    },
    {
      "cell_type": "code",
      "execution_count": 61,
      "metadata": {
        "colab": {
          "base_uri": "https://localhost:8080/"
        },
        "id": "QTBW43v_q34i",
        "outputId": "50e7e42c-51a4-47dc-8823-a6f0e8f1ab6c"
      },
      "outputs": [
        {
          "data": {
            "text/plain": [
              "array([[0, 0, 0, ..., 0, 0, 0],\n",
              "       [0, 0, 0, ..., 0, 0, 0],\n",
              "       [0, 0, 0, ..., 0, 0, 0],\n",
              "       ...,\n",
              "       [0, 0, 0, ..., 0, 0, 0],\n",
              "       [0, 0, 0, ..., 0, 0, 0],\n",
              "       [0, 0, 0, ..., 0, 0, 0]])"
            ]
          },
          "execution_count": 61,
          "metadata": {},
          "output_type": "execute_result"
        }
      ],
      "source": [
        "x_train.toarray()"
      ]
    },
    {
      "cell_type": "code",
      "execution_count": 62,
      "metadata": {
        "colab": {
          "base_uri": "https://localhost:8080/"
        },
        "id": "4aDoWKSqnwID",
        "outputId": "9d5b1902-1284-4143-e55f-48cee312d9fe"
      },
      "outputs": [
        {
          "data": {
            "text/plain": [
              "1    3889\n",
              "0    3831\n",
              "Name: Label, dtype: int64"
            ]
          },
          "execution_count": 62,
          "metadata": {},
          "output_type": "execute_result"
        }
      ],
      "source": [
        "y_train.value_counts()"
      ]
    },
    {
      "cell_type": "code",
      "execution_count": 63,
      "metadata": {
        "id": "7SnJLKEX9iQR"
      },
      "outputs": [],
      "source": [
        "# create a function to calculate the accuracy of the model\n",
        "def accuracy(model):\n",
        "    model.fit(x_train, y_train)\n",
        "    y_pred = model.score(x_test, y_test)\n",
        "    print(str(model) +' : '+ str(y_pred))"
      ]
    },
    {
      "cell_type": "markdown",
      "metadata": {
        "id": "nBV8bVugMkDA"
      },
      "source": [
        "**Support Vector Machine algorithm use to train the model**"
      ]
    },
    {
      "cell_type": "code",
      "execution_count": 64,
      "metadata": {
        "colab": {
          "base_uri": "https://localhost:8080/"
        },
        "id": "9GDDDuwY9qv4",
        "outputId": "c9d2da35-44e5-4f07-e698-c49af2e23bf8"
      },
      "outputs": [
        {
          "name": "stdout",
          "output_type": "stream",
          "text": [
            "SVC(random_state=0) : 0.9523316062176166\n"
          ]
        }
      ],
      "source": [
        "# use svm to train the model & get accuracy\n",
        "from sklearn.svm import SVC\n",
        "svm = SVC(kernel = 'rbf', random_state = 0)\n",
        "accuracy(svm)"
      ]
    },
    {
      "cell_type": "markdown",
      "metadata": {
        "id": "9saiQXzQGZ6X"
      },
      "source": [
        "**Create a dictionary called param_grid and fill out some parameters for kernels, C and gamma**"
      ]
    },
    {
      "cell_type": "code",
      "execution_count": 65,
      "metadata": {
        "id": "9NQOnuCIvez1"
      },
      "outputs": [],
      "source": [
        "param_grid = {'C': [0.1,1, 10, 100], 'gamma': [1,0.1,0.01,0.001],'kernel': ['rbf', 'poly', 'sigmoid']}\n"
      ]
    },
    {
      "cell_type": "markdown",
      "metadata": {
        "id": "H4idW0TIGkeU"
      },
      "source": [
        "**Create a GridSearchCV object and fit it to the training data**"
      ]
    },
    {
      "cell_type": "code",
      "execution_count": 66,
      "metadata": {
        "colab": {
          "base_uri": "https://localhost:8080/"
        },
        "id": "XPCJKbLjwx4U",
        "outputId": "0acf6582-9925-4774-8e6a-d4cc5fd3312d"
      },
      "outputs": [
        {
          "name": "stdout",
          "output_type": "stream",
          "text": [
            "Fitting 5 folds for each of 48 candidates, totalling 240 fits\n",
            "[CV] END .........................C=0.1, gamma=1, kernel=rbf; total time=  10.5s\n",
            "[CV] END .........................C=0.1, gamma=1, kernel=rbf; total time=   9.9s\n",
            "[CV] END .........................C=0.1, gamma=1, kernel=rbf; total time=  10.2s\n",
            "[CV] END .........................C=0.1, gamma=1, kernel=rbf; total time=   9.6s\n",
            "[CV] END .........................C=0.1, gamma=1, kernel=rbf; total time=  10.3s\n",
            "[CV] END ........................C=0.1, gamma=1, kernel=poly; total time=   3.3s\n",
            "[CV] END ........................C=0.1, gamma=1, kernel=poly; total time=   3.3s\n",
            "[CV] END ........................C=0.1, gamma=1, kernel=poly; total time=   3.5s\n",
            "[CV] END ........................C=0.1, gamma=1, kernel=poly; total time=   3.3s\n",
            "[CV] END ........................C=0.1, gamma=1, kernel=poly; total time=   3.3s\n",
            "[CV] END .....................C=0.1, gamma=1, kernel=sigmoid; total time=   3.7s\n",
            "[CV] END .....................C=0.1, gamma=1, kernel=sigmoid; total time=   3.8s\n",
            "[CV] END .....................C=0.1, gamma=1, kernel=sigmoid; total time=   3.6s\n",
            "[CV] END .....................C=0.1, gamma=1, kernel=sigmoid; total time=   3.7s\n",
            "[CV] END .....................C=0.1, gamma=1, kernel=sigmoid; total time=   3.8s\n",
            "[CV] END .......................C=0.1, gamma=0.1, kernel=rbf; total time=   7.7s\n",
            "[CV] END .......................C=0.1, gamma=0.1, kernel=rbf; total time=   7.7s\n",
            "[CV] END .......................C=0.1, gamma=0.1, kernel=rbf; total time=   7.6s\n",
            "[CV] END .......................C=0.1, gamma=0.1, kernel=rbf; total time=   7.7s\n",
            "[CV] END .......................C=0.1, gamma=0.1, kernel=rbf; total time=   7.6s\n",
            "[CV] END ......................C=0.1, gamma=0.1, kernel=poly; total time=   6.7s\n",
            "[CV] END ......................C=0.1, gamma=0.1, kernel=poly; total time=   6.7s\n",
            "[CV] END ......................C=0.1, gamma=0.1, kernel=poly; total time=   6.7s\n",
            "[CV] END ......................C=0.1, gamma=0.1, kernel=poly; total time=   6.7s\n",
            "[CV] END ......................C=0.1, gamma=0.1, kernel=poly; total time=   6.7s\n",
            "[CV] END ...................C=0.1, gamma=0.1, kernel=sigmoid; total time=   5.1s\n",
            "[CV] END ...................C=0.1, gamma=0.1, kernel=sigmoid; total time=   5.2s\n",
            "[CV] END ...................C=0.1, gamma=0.1, kernel=sigmoid; total time=   5.6s\n",
            "[CV] END ...................C=0.1, gamma=0.1, kernel=sigmoid; total time=   5.6s\n",
            "[CV] END ...................C=0.1, gamma=0.1, kernel=sigmoid; total time=   5.7s\n",
            "[CV] END ......................C=0.1, gamma=0.01, kernel=rbf; total time=   7.6s\n",
            "[CV] END ......................C=0.1, gamma=0.01, kernel=rbf; total time=   7.6s\n",
            "[CV] END ......................C=0.1, gamma=0.01, kernel=rbf; total time=   7.6s\n",
            "[CV] END ......................C=0.1, gamma=0.01, kernel=rbf; total time=   7.6s\n",
            "[CV] END ......................C=0.1, gamma=0.01, kernel=rbf; total time=   7.6s\n",
            "[CV] END .....................C=0.1, gamma=0.01, kernel=poly; total time=   9.9s\n",
            "[CV] END .....................C=0.1, gamma=0.01, kernel=poly; total time=   9.9s\n",
            "[CV] END .....................C=0.1, gamma=0.01, kernel=poly; total time=   9.8s\n",
            "[CV] END .....................C=0.1, gamma=0.01, kernel=poly; total time=   9.9s\n",
            "[CV] END .....................C=0.1, gamma=0.01, kernel=poly; total time=   9.9s\n",
            "[CV] END ..................C=0.1, gamma=0.01, kernel=sigmoid; total time=   7.8s\n",
            "[CV] END ..................C=0.1, gamma=0.01, kernel=sigmoid; total time=   7.8s\n",
            "[CV] END ..................C=0.1, gamma=0.01, kernel=sigmoid; total time=   7.9s\n",
            "[CV] END ..................C=0.1, gamma=0.01, kernel=sigmoid; total time=   7.9s\n",
            "[CV] END ..................C=0.1, gamma=0.01, kernel=sigmoid; total time=   7.9s\n",
            "[CV] END .....................C=0.1, gamma=0.001, kernel=rbf; total time=  10.7s\n",
            "[CV] END .....................C=0.1, gamma=0.001, kernel=rbf; total time=  10.7s\n",
            "[CV] END .....................C=0.1, gamma=0.001, kernel=rbf; total time=  10.7s\n",
            "[CV] END .....................C=0.1, gamma=0.001, kernel=rbf; total time=  10.6s\n",
            "[CV] END .....................C=0.1, gamma=0.001, kernel=rbf; total time=  10.7s\n",
            "[CV] END ....................C=0.1, gamma=0.001, kernel=poly; total time=   9.8s\n",
            "[CV] END ....................C=0.1, gamma=0.001, kernel=poly; total time=   9.8s\n",
            "[CV] END ....................C=0.1, gamma=0.001, kernel=poly; total time=   9.9s\n",
            "[CV] END ....................C=0.1, gamma=0.001, kernel=poly; total time=   9.8s\n",
            "[CV] END ....................C=0.1, gamma=0.001, kernel=poly; total time=   9.9s\n",
            "[CV] END .................C=0.1, gamma=0.001, kernel=sigmoid; total time=  10.1s\n",
            "[CV] END .................C=0.1, gamma=0.001, kernel=sigmoid; total time=  10.1s\n",
            "[CV] END .................C=0.1, gamma=0.001, kernel=sigmoid; total time=  10.1s\n",
            "[CV] END .................C=0.1, gamma=0.001, kernel=sigmoid; total time=  10.2s\n",
            "[CV] END .................C=0.1, gamma=0.001, kernel=sigmoid; total time=  10.1s\n",
            "[CV] END ...........................C=1, gamma=1, kernel=rbf; total time=   8.5s\n",
            "[CV] END ...........................C=1, gamma=1, kernel=rbf; total time=   8.6s\n",
            "[CV] END ...........................C=1, gamma=1, kernel=rbf; total time=   8.4s\n",
            "[CV] END ...........................C=1, gamma=1, kernel=rbf; total time=   8.5s\n",
            "[CV] END ...........................C=1, gamma=1, kernel=rbf; total time=   8.4s\n",
            "[CV] END ..........................C=1, gamma=1, kernel=poly; total time=   3.1s\n",
            "[CV] END ..........................C=1, gamma=1, kernel=poly; total time=   3.0s\n",
            "[CV] END ..........................C=1, gamma=1, kernel=poly; total time=   3.1s\n",
            "[CV] END ..........................C=1, gamma=1, kernel=poly; total time=   3.1s\n",
            "[CV] END ..........................C=1, gamma=1, kernel=poly; total time=   2.9s\n",
            "[CV] END .......................C=1, gamma=1, kernel=sigmoid; total time=   3.3s\n",
            "[CV] END .......................C=1, gamma=1, kernel=sigmoid; total time=   3.4s\n",
            "[CV] END .......................C=1, gamma=1, kernel=sigmoid; total time=   3.4s\n",
            "[CV] END .......................C=1, gamma=1, kernel=sigmoid; total time=   3.4s\n",
            "[CV] END .......................C=1, gamma=1, kernel=sigmoid; total time=   3.5s\n",
            "[CV] END .........................C=1, gamma=0.1, kernel=rbf; total time=   4.4s\n",
            "[CV] END .........................C=1, gamma=0.1, kernel=rbf; total time=   4.4s\n",
            "[CV] END .........................C=1, gamma=0.1, kernel=rbf; total time=   4.3s\n",
            "[CV] END .........................C=1, gamma=0.1, kernel=rbf; total time=   4.4s\n",
            "[CV] END .........................C=1, gamma=0.1, kernel=rbf; total time=   4.4s\n",
            "[CV] END ........................C=1, gamma=0.1, kernel=poly; total time=   5.6s\n",
            "[CV] END ........................C=1, gamma=0.1, kernel=poly; total time=   5.6s\n",
            "[CV] END ........................C=1, gamma=0.1, kernel=poly; total time=   5.6s\n",
            "[CV] END ........................C=1, gamma=0.1, kernel=poly; total time=   5.5s\n",
            "[CV] END ........................C=1, gamma=0.1, kernel=poly; total time=   5.6s\n",
            "[CV] END .....................C=1, gamma=0.1, kernel=sigmoid; total time=   2.0s\n",
            "[CV] END .....................C=1, gamma=0.1, kernel=sigmoid; total time=   2.0s\n",
            "[CV] END .....................C=1, gamma=0.1, kernel=sigmoid; total time=   1.9s\n",
            "[CV] END .....................C=1, gamma=0.1, kernel=sigmoid; total time=   2.0s\n",
            "[CV] END .....................C=1, gamma=0.1, kernel=sigmoid; total time=   2.0s\n",
            "[CV] END ........................C=1, gamma=0.01, kernel=rbf; total time=   4.2s\n",
            "[CV] END ........................C=1, gamma=0.01, kernel=rbf; total time=   4.1s\n",
            "[CV] END ........................C=1, gamma=0.01, kernel=rbf; total time=   4.2s\n",
            "[CV] END ........................C=1, gamma=0.01, kernel=rbf; total time=   4.2s\n",
            "[CV] END ........................C=1, gamma=0.01, kernel=rbf; total time=   4.2s\n",
            "[CV] END .......................C=1, gamma=0.01, kernel=poly; total time=   9.9s\n",
            "[CV] END .......................C=1, gamma=0.01, kernel=poly; total time=  10.0s\n",
            "[CV] END .......................C=1, gamma=0.01, kernel=poly; total time=   9.9s\n",
            "[CV] END .......................C=1, gamma=0.01, kernel=poly; total time=   9.9s\n",
            "[CV] END .......................C=1, gamma=0.01, kernel=poly; total time=   9.9s\n",
            "[CV] END ....................C=1, gamma=0.01, kernel=sigmoid; total time=   4.6s\n",
            "[CV] END ....................C=1, gamma=0.01, kernel=sigmoid; total time=   4.6s\n",
            "[CV] END ....................C=1, gamma=0.01, kernel=sigmoid; total time=   4.6s\n",
            "[CV] END ....................C=1, gamma=0.01, kernel=sigmoid; total time=   4.6s\n",
            "[CV] END ....................C=1, gamma=0.01, kernel=sigmoid; total time=   4.6s\n",
            "[CV] END .......................C=1, gamma=0.001, kernel=rbf; total time=   7.3s\n",
            "[CV] END .......................C=1, gamma=0.001, kernel=rbf; total time=   7.2s\n",
            "[CV] END .......................C=1, gamma=0.001, kernel=rbf; total time=   7.3s\n",
            "[CV] END .......................C=1, gamma=0.001, kernel=rbf; total time=   7.3s\n",
            "[CV] END .......................C=1, gamma=0.001, kernel=rbf; total time=   7.3s\n",
            "[CV] END ......................C=1, gamma=0.001, kernel=poly; total time=   9.9s\n",
            "[CV] END ......................C=1, gamma=0.001, kernel=poly; total time=  10.0s\n",
            "[CV] END ......................C=1, gamma=0.001, kernel=poly; total time=  10.0s\n",
            "[CV] END ......................C=1, gamma=0.001, kernel=poly; total time=  10.0s\n",
            "[CV] END ......................C=1, gamma=0.001, kernel=poly; total time=   9.9s\n",
            "[CV] END ...................C=1, gamma=0.001, kernel=sigmoid; total time=   8.0s\n",
            "[CV] END ...................C=1, gamma=0.001, kernel=sigmoid; total time=   7.9s\n",
            "[CV] END ...................C=1, gamma=0.001, kernel=sigmoid; total time=   8.0s\n",
            "[CV] END ...................C=1, gamma=0.001, kernel=sigmoid; total time=   8.0s\n",
            "[CV] END ...................C=1, gamma=0.001, kernel=sigmoid; total time=   8.0s\n",
            "[CV] END ..........................C=10, gamma=1, kernel=rbf; total time=   7.4s\n",
            "[CV] END ..........................C=10, gamma=1, kernel=rbf; total time=   7.4s\n",
            "[CV] END ..........................C=10, gamma=1, kernel=rbf; total time=   7.4s\n",
            "[CV] END ..........................C=10, gamma=1, kernel=rbf; total time=   7.5s\n",
            "[CV] END ..........................C=10, gamma=1, kernel=rbf; total time=   7.4s\n",
            "[CV] END .........................C=10, gamma=1, kernel=poly; total time=   3.0s\n",
            "[CV] END .........................C=10, gamma=1, kernel=poly; total time=   3.0s\n",
            "[CV] END .........................C=10, gamma=1, kernel=poly; total time=   3.0s\n",
            "[CV] END .........................C=10, gamma=1, kernel=poly; total time=   3.0s\n",
            "[CV] END .........................C=10, gamma=1, kernel=poly; total time=   2.9s\n",
            "[CV] END ......................C=10, gamma=1, kernel=sigmoid; total time=   3.4s\n",
            "[CV] END ......................C=10, gamma=1, kernel=sigmoid; total time=   3.4s\n",
            "[CV] END ......................C=10, gamma=1, kernel=sigmoid; total time=   3.3s\n",
            "[CV] END ......................C=10, gamma=1, kernel=sigmoid; total time=   3.3s\n",
            "[CV] END ......................C=10, gamma=1, kernel=sigmoid; total time=   3.5s\n",
            "[CV] END ........................C=10, gamma=0.1, kernel=rbf; total time=   3.6s\n",
            "[CV] END ........................C=10, gamma=0.1, kernel=rbf; total time=   3.6s\n",
            "[CV] END ........................C=10, gamma=0.1, kernel=rbf; total time=   3.5s\n",
            "[CV] END ........................C=10, gamma=0.1, kernel=rbf; total time=   3.6s\n",
            "[CV] END ........................C=10, gamma=0.1, kernel=rbf; total time=   3.6s\n",
            "[CV] END .......................C=10, gamma=0.1, kernel=poly; total time=   4.7s\n",
            "[CV] END .......................C=10, gamma=0.1, kernel=poly; total time=   4.6s\n",
            "[CV] END .......................C=10, gamma=0.1, kernel=poly; total time=   4.7s\n",
            "[CV] END .......................C=10, gamma=0.1, kernel=poly; total time=   4.7s\n",
            "[CV] END .......................C=10, gamma=0.1, kernel=poly; total time=   4.7s\n",
            "[CV] END ....................C=10, gamma=0.1, kernel=sigmoid; total time=   1.8s\n",
            "[CV] END ....................C=10, gamma=0.1, kernel=sigmoid; total time=   1.8s\n",
            "[CV] END ....................C=10, gamma=0.1, kernel=sigmoid; total time=   1.8s\n",
            "[CV] END ....................C=10, gamma=0.1, kernel=sigmoid; total time=   1.8s\n",
            "[CV] END ....................C=10, gamma=0.1, kernel=sigmoid; total time=   1.7s\n",
            "[CV] END .......................C=10, gamma=0.01, kernel=rbf; total time=   2.4s\n",
            "[CV] END .......................C=10, gamma=0.01, kernel=rbf; total time=   2.4s\n",
            "[CV] END .......................C=10, gamma=0.01, kernel=rbf; total time=   2.4s\n",
            "[CV] END .......................C=10, gamma=0.01, kernel=rbf; total time=   2.5s\n",
            "[CV] END .......................C=10, gamma=0.01, kernel=rbf; total time=   2.4s\n",
            "[CV] END ......................C=10, gamma=0.01, kernel=poly; total time=   8.8s\n",
            "[CV] END ......................C=10, gamma=0.01, kernel=poly; total time=   8.9s\n",
            "[CV] END ......................C=10, gamma=0.01, kernel=poly; total time=   8.9s\n",
            "[CV] END ......................C=10, gamma=0.01, kernel=poly; total time=   8.9s\n",
            "[CV] END ......................C=10, gamma=0.01, kernel=poly; total time=   8.9s\n",
            "[CV] END ...................C=10, gamma=0.01, kernel=sigmoid; total time=   2.6s\n",
            "[CV] END ...................C=10, gamma=0.01, kernel=sigmoid; total time=   2.6s\n",
            "[CV] END ...................C=10, gamma=0.01, kernel=sigmoid; total time=   2.9s\n",
            "[CV] END ...................C=10, gamma=0.01, kernel=sigmoid; total time=   2.6s\n",
            "[CV] END ...................C=10, gamma=0.01, kernel=sigmoid; total time=   2.7s\n",
            "[CV] END ......................C=10, gamma=0.001, kernel=rbf; total time=   4.2s\n",
            "[CV] END ......................C=10, gamma=0.001, kernel=rbf; total time=   4.1s\n",
            "[CV] END ......................C=10, gamma=0.001, kernel=rbf; total time=   4.2s\n",
            "[CV] END ......................C=10, gamma=0.001, kernel=rbf; total time=   4.2s\n",
            "[CV] END ......................C=10, gamma=0.001, kernel=rbf; total time=   4.2s\n",
            "[CV] END .....................C=10, gamma=0.001, kernel=poly; total time=  10.0s\n",
            "[CV] END .....................C=10, gamma=0.001, kernel=poly; total time=  10.0s\n",
            "[CV] END .....................C=10, gamma=0.001, kernel=poly; total time=  10.0s\n",
            "[CV] END .....................C=10, gamma=0.001, kernel=poly; total time=  10.0s\n",
            "[CV] END .....................C=10, gamma=0.001, kernel=poly; total time=  10.0s\n",
            "[CV] END ..................C=10, gamma=0.001, kernel=sigmoid; total time=   4.7s\n",
            "[CV] END ..................C=10, gamma=0.001, kernel=sigmoid; total time=   4.6s\n",
            "[CV] END ..................C=10, gamma=0.001, kernel=sigmoid; total time=   4.7s\n",
            "[CV] END ..................C=10, gamma=0.001, kernel=sigmoid; total time=   4.6s\n",
            "[CV] END ..................C=10, gamma=0.001, kernel=sigmoid; total time=   4.6s\n",
            "[CV] END .........................C=100, gamma=1, kernel=rbf; total time=   7.5s\n",
            "[CV] END .........................C=100, gamma=1, kernel=rbf; total time=   7.5s\n",
            "[CV] END .........................C=100, gamma=1, kernel=rbf; total time=   7.5s\n",
            "[CV] END .........................C=100, gamma=1, kernel=rbf; total time=   7.5s\n",
            "[CV] END .........................C=100, gamma=1, kernel=rbf; total time=   7.5s\n",
            "[CV] END ........................C=100, gamma=1, kernel=poly; total time=   3.0s\n",
            "[CV] END ........................C=100, gamma=1, kernel=poly; total time=   3.0s\n",
            "[CV] END ........................C=100, gamma=1, kernel=poly; total time=   3.0s\n",
            "[CV] END ........................C=100, gamma=1, kernel=poly; total time=   3.0s\n",
            "[CV] END ........................C=100, gamma=1, kernel=poly; total time=   2.9s\n",
            "[CV] END .....................C=100, gamma=1, kernel=sigmoid; total time=   3.4s\n",
            "[CV] END .....................C=100, gamma=1, kernel=sigmoid; total time=   3.4s\n",
            "[CV] END .....................C=100, gamma=1, kernel=sigmoid; total time=   3.3s\n",
            "[CV] END .....................C=100, gamma=1, kernel=sigmoid; total time=   3.4s\n",
            "[CV] END .....................C=100, gamma=1, kernel=sigmoid; total time=   3.5s\n",
            "[CV] END .......................C=100, gamma=0.1, kernel=rbf; total time=   3.5s\n",
            "[CV] END .......................C=100, gamma=0.1, kernel=rbf; total time=   3.5s\n",
            "[CV] END .......................C=100, gamma=0.1, kernel=rbf; total time=   3.5s\n",
            "[CV] END .......................C=100, gamma=0.1, kernel=rbf; total time=   3.5s\n",
            "[CV] END .......................C=100, gamma=0.1, kernel=rbf; total time=   3.4s\n",
            "[CV] END ......................C=100, gamma=0.1, kernel=poly; total time=   3.5s\n",
            "[CV] END ......................C=100, gamma=0.1, kernel=poly; total time=   3.5s\n",
            "[CV] END ......................C=100, gamma=0.1, kernel=poly; total time=   3.4s\n",
            "[CV] END ......................C=100, gamma=0.1, kernel=poly; total time=   3.4s\n",
            "[CV] END ......................C=100, gamma=0.1, kernel=poly; total time=   3.4s\n",
            "[CV] END ...................C=100, gamma=0.1, kernel=sigmoid; total time=   1.8s\n",
            "[CV] END ...................C=100, gamma=0.1, kernel=sigmoid; total time=   1.7s\n",
            "[CV] END ...................C=100, gamma=0.1, kernel=sigmoid; total time=   1.8s\n",
            "[CV] END ...................C=100, gamma=0.1, kernel=sigmoid; total time=   1.7s\n",
            "[CV] END ...................C=100, gamma=0.1, kernel=sigmoid; total time=   1.7s\n",
            "[CV] END ......................C=100, gamma=0.01, kernel=rbf; total time=   1.8s\n",
            "[CV] END ......................C=100, gamma=0.01, kernel=rbf; total time=   1.7s\n",
            "[CV] END ......................C=100, gamma=0.01, kernel=rbf; total time=   1.7s\n",
            "[CV] END ......................C=100, gamma=0.01, kernel=rbf; total time=   1.8s\n",
            "[CV] END ......................C=100, gamma=0.01, kernel=rbf; total time=   1.7s\n",
            "[CV] END .....................C=100, gamma=0.01, kernel=poly; total time=   7.0s\n",
            "[CV] END .....................C=100, gamma=0.01, kernel=poly; total time=   6.9s\n",
            "[CV] END .....................C=100, gamma=0.01, kernel=poly; total time=   7.0s\n",
            "[CV] END .....................C=100, gamma=0.01, kernel=poly; total time=   6.9s\n",
            "[CV] END .....................C=100, gamma=0.01, kernel=poly; total time=   6.9s\n",
            "[CV] END ..................C=100, gamma=0.01, kernel=sigmoid; total time=   1.0s\n",
            "[CV] END ..................C=100, gamma=0.01, kernel=sigmoid; total time=   1.0s\n",
            "[CV] END ..................C=100, gamma=0.01, kernel=sigmoid; total time=   1.0s\n",
            "[CV] END ..................C=100, gamma=0.01, kernel=sigmoid; total time=   1.1s\n",
            "[CV] END ..................C=100, gamma=0.01, kernel=sigmoid; total time=   1.3s\n",
            "[CV] END .....................C=100, gamma=0.001, kernel=rbf; total time=   2.5s\n",
            "[CV] END .....................C=100, gamma=0.001, kernel=rbf; total time=   2.5s\n",
            "[CV] END .....................C=100, gamma=0.001, kernel=rbf; total time=   2.5s\n",
            "[CV] END .....................C=100, gamma=0.001, kernel=rbf; total time=   2.6s\n",
            "[CV] END .....................C=100, gamma=0.001, kernel=rbf; total time=   2.5s\n",
            "[CV] END ....................C=100, gamma=0.001, kernel=poly; total time=  10.0s\n",
            "[CV] END ....................C=100, gamma=0.001, kernel=poly; total time=  10.1s\n",
            "[CV] END ....................C=100, gamma=0.001, kernel=poly; total time=  10.1s\n",
            "[CV] END ....................C=100, gamma=0.001, kernel=poly; total time=  10.1s\n",
            "[CV] END ....................C=100, gamma=0.001, kernel=poly; total time=  10.1s\n",
            "[CV] END .................C=100, gamma=0.001, kernel=sigmoid; total time=   2.7s\n",
            "[CV] END .................C=100, gamma=0.001, kernel=sigmoid; total time=   2.7s\n",
            "[CV] END .................C=100, gamma=0.001, kernel=sigmoid; total time=   2.7s\n",
            "[CV] END .................C=100, gamma=0.001, kernel=sigmoid; total time=   2.8s\n",
            "[CV] END .................C=100, gamma=0.001, kernel=sigmoid; total time=   2.7s\n"
          ]
        },
        {
          "data": {
            "text/plain": [
              "GridSearchCV(estimator=SVC(),\n",
              "             param_grid={'C': [0.1, 1, 10, 100], 'gamma': [1, 0.1, 0.01, 0.001],\n",
              "                         'kernel': ['rbf', 'poly', 'sigmoid']},\n",
              "             verbose=2)"
            ]
          },
          "execution_count": 66,
          "metadata": {},
          "output_type": "execute_result"
        }
      ],
      "source": [
        "grid = GridSearchCV(SVC(),param_grid,refit=True,verbose=2)\n",
        "grid.fit(x_train,y_train)"
      ]
    },
    {
      "cell_type": "markdown",
      "metadata": {
        "id": "BbotnAiyLM97"
      },
      "source": [
        "**Accuracy Score**"
      ]
    },
    {
      "cell_type": "code",
      "execution_count": 67,
      "metadata": {
        "colab": {
          "base_uri": "https://localhost:8080/"
        },
        "id": "yUpmSnOmyA-1",
        "outputId": "1ff8da19-44a5-4915-c9e4-c81dd6ebd5d7"
      },
      "outputs": [
        {
          "data": {
            "text/plain": [
              "0.960621761658031"
            ]
          },
          "execution_count": 67,
          "metadata": {},
          "output_type": "execute_result"
        }
      ],
      "source": [
        "# #accuracy_score\n",
        "Y = grid.predict(x_test)\n",
        "accuracy_score(y_test, Y)"
      ]
    },
    {
      "cell_type": "markdown",
      "metadata": {
        "id": "jhAejhTCLwyM"
      },
      "source": [
        "**Confusion Matrix & Classification report**"
      ]
    },
    {
      "cell_type": "code",
      "execution_count": 68,
      "metadata": {
        "id": "QkORtlz3JGH3"
      },
      "outputs": [],
      "source": [
        "# grid_predictions = grid.predict(x_test)\n",
        "# print(confusion_matrix(y_test,grid_predictions))\n",
        "# print(classification_report(y_test,grid_predictions))"
      ]
    },
    {
      "cell_type": "code",
      "execution_count": 69,
      "metadata": {
        "colab": {
          "base_uri": "https://localhost:8080/"
        },
        "id": "k27CIRlhKCTD",
        "outputId": "f863aa54-5354-423e-898a-e2ba8e95018b"
      },
      "outputs": [
        {
          "name": "stdout",
          "output_type": "stream",
          "text": [
            "[[0 0 0 ... 0 0 0]\n",
            " [0 0 0 ... 0 0 0]\n",
            " [0 0 0 ... 0 0 0]\n",
            " ...\n",
            " [0 0 0 ... 0 0 0]\n",
            " [0 0 0 ... 0 0 0]\n",
            " [0 0 0 ... 0 0 0]]\n"
          ]
        }
      ],
      "source": [
        "print(x_train.toarray())"
      ]
    },
    {
      "cell_type": "code",
      "execution_count": 70,
      "metadata": {
        "colab": {
          "base_uri": "https://localhost:8080/"
        },
        "id": "lVRLHW20Y3gu",
        "outputId": "fad6c029-7b52-4eec-ae14-efcf17e0cdef"
      },
      "outputs": [
        {
          "name": "stdout",
          "output_type": "stream",
          "text": [
            "  (0, 1107)\t1\n",
            "  (0, 1201)\t1\n",
            "  (0, 1843)\t1\n",
            "  (0, 2415)\t1\n",
            "  (0, 3168)\t1\n",
            "  (0, 3558)\t1\n",
            "  (0, 3602)\t1\n",
            "  (0, 4215)\t1\n",
            "  (0, 4235)\t1\n",
            "  (0, 5235)\t1\n",
            "  (0, 5516)\t1\n",
            "  (0, 6858)\t1\n",
            "  (0, 7039)\t1\n",
            "  (0, 7737)\t1\n",
            "  (0, 8307)\t1\n",
            "  (0, 8308)\t1\n",
            "  (1, 38)\t0\n",
            "  (1, 322)\t0\n",
            "  (1, 400)\t0\n",
            "  (1, 792)\t0\n",
            "  (1, 890)\t0\n",
            "  (1, 3316)\t0\n",
            "  (1, 3405)\t0\n",
            "  (1, 3826)\t0\n",
            "  (1, 4737)\t0\n",
            "  :\t:\n",
            "  (7718, 2681)\t1\n",
            "  (7718, 3366)\t3\n",
            "  (7718, 5053)\t1\n",
            "  (7718, 5100)\t1\n",
            "  (7718, 5337)\t1\n",
            "  (7718, 5389)\t1\n",
            "  (7718, 5582)\t1\n",
            "  (7718, 5823)\t1\n",
            "  (7718, 6412)\t1\n",
            "  (7718, 7622)\t1\n",
            "  (7718, 7772)\t1\n",
            "  (7718, 8262)\t1\n",
            "  (7718, 8453)\t1\n",
            "  (7718, 8629)\t1\n",
            "  (7719, 964)\t1\n",
            "  (7719, 1130)\t1\n",
            "  (7719, 2442)\t1\n",
            "  (7719, 3802)\t1\n",
            "  (7719, 3962)\t1\n",
            "  (7719, 7341)\t1\n",
            "  (7719, 7511)\t1\n",
            "  (7719, 7575)\t1\n",
            "  (7719, 7772)\t2\n",
            "  (7719, 8491)\t2\n",
            "  (7719, 8629)\t3\n"
          ]
        }
      ],
      "source": [
        "print(x_train)"
      ]
    },
    {
      "cell_type": "markdown",
      "metadata": {
        "id": "xlPPuzLBNAHI"
      },
      "source": [
        "**Check mails are Spam or Ham**"
      ]
    },
    {
      "cell_type": "code",
      "execution_count": 72,
      "metadata": {
        "colab": {
          "base_uri": "https://localhost:8080/"
        },
        "id": "riZ2IYJbN6x1",
        "outputId": "6a91ad6f-d7be-42e9-cce5-fcef773fdd15"
      },
      "outputs": [
        {
          "name": "stdout",
          "output_type": "stream",
          "text": [
            "[0]\n",
            "Spam Mail\n"
          ]
        }
      ],
      "source": [
        "#Ham Mail in dataset\n",
        "#E1 = [\"Tell where you reached\"]\n",
        "\n",
        "#Spam Mails in dataset\n",
        "#E1 = [\"Thanks for your subscription to Ringtone UK your mobile will be charged ÃƒÂ¥Ã‚Â£5/month Please confirm by replying YES or NO. If you reply NO you will not be charged\"]\n",
        "#E1=[\"Want 2 get laid tonight? Want real Dogging locations sent direct 2 ur mob? Join the UK's largest Dogging Network bt Txting GRAVEL to 69888! Nt. ec2a. 31p.msg@150p\"]\n",
        "\n",
        "#E1 = [\"Hey, you have won a car !!!!. Conrgratzz\"]\n",
        "#E1 = [\"Dear applicant, Your CV has been recieved. Best regards\"]\n",
        "#E1 = [\"You have received $1000000 to your account\"]\n",
        "#E1 = [\"Join with our whatsapp group\"]\n",
        "E1 = [\"Kindly check the previous email. Kind Regards\"]\n",
        "\n",
        "input_data = vectorizer.transform(E1)\n",
        "\n",
        "prediction = svm.predict(input_data)\n",
        "print(prediction)\n",
        "\n",
        "if(prediction[0]==1):\n",
        "  print('Ham Mail')\n",
        "\n",
        "else:\n",
        "  print('Spam Mail')  "
      ]
    },
    {
      "attachments": {},
      "cell_type": "markdown",
      "metadata": {
        "id": "AmlLPzuZPBR6"
      },
      "source": [
        "1.   Hey, you have won a car !!!!. Conrgratzz  -  **spam mail**\n",
        "2.   Dear applicant, Your CV has been recieved. Best regards  -  **ham mail**\n",
        "3.   You have received $1000000 to your account  -  **spam mail**\n",
        "4.   Join with our whatsapp group -  **spam mail**\n",
        "5.   Kindly check the previous email. Kind Regards  -  **spam mail**\n",
        "\n"
      ]
    }
  ],
  "metadata": {
    "colab": {
      "provenance": []
    },
    "kernelspec": {
      "display_name": "Python 3",
      "name": "python3"
    },
    "language_info": {
      "name": "python"
    }
  },
  "nbformat": 4,
  "nbformat_minor": 0
}
